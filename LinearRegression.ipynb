{
  "nbformat": 4,
  "nbformat_minor": 0,
  "metadata": {
    "kernelspec": {
      "display_name": "Python 3",
      "language": "python",
      "name": "python3"
    },
    "language_info": {
      "codemirror_mode": {
        "name": "ipython",
        "version": 3
      },
      "file_extension": ".py",
      "mimetype": "text/x-python",
      "name": "python",
      "nbconvert_exporter": "python",
      "pygments_lexer": "ipython3",
      "version": "3.8.5"
    },
    "colab": {
      "name": "LinearRegression Task-1.ipynb",
      "provenance": [],
      "collapsed_sections": []
    }
  },
  "cells": [
    {
      "cell_type": "markdown",
      "metadata": {
        "id": "xv2wD-GDw9rv"
      },
      "source": [
        "### Data Science & Business Analytics Task-1 under The Sparks Foundation GRIP \n",
        "\n",
        "### Prediction using Supervised ML (Level - Beginner)\n",
        "\n",
        "Name: Tanvi Penumudy "
      ]
    },
    {
      "cell_type": "code",
      "metadata": {
        "id": "jzWQ7oziw9r0"
      },
      "source": [
        "# Importing Libraries\n",
        "import numpy as np\n",
        "import pandas as pd\n",
        "import matplotlib.pyplot as plt"
      ],
      "execution_count": null,
      "outputs": []
    },
    {
      "cell_type": "markdown",
      "metadata": {
        "id": "w2eun3VTw9r1"
      },
      "source": [
        "Dataset link - http://bit.ly/w-data"
      ]
    },
    {
      "cell_type": "code",
      "metadata": {
        "id": "II2O87zPw9r1"
      },
      "source": [
        "# Reading Dataset\n",
        "data = pd.read_csv('http://bit.ly/w-data')"
      ],
      "execution_count": null,
      "outputs": []
    },
    {
      "cell_type": "code",
      "metadata": {
        "colab": {
          "base_uri": "https://localhost:8080/",
          "height": 203
        },
        "id": "c3rjzOV1w9r2",
        "outputId": "2d47667f-e9c1-4e77-b30f-4a4a7feb6da3"
      },
      "source": [
        "# Reading first 5 entries\r\n",
        "data.head()"
      ],
      "execution_count": null,
      "outputs": [
        {
          "output_type": "execute_result",
          "data": {
            "text/html": [
              "<div>\n",
              "<style scoped>\n",
              "    .dataframe tbody tr th:only-of-type {\n",
              "        vertical-align: middle;\n",
              "    }\n",
              "\n",
              "    .dataframe tbody tr th {\n",
              "        vertical-align: top;\n",
              "    }\n",
              "\n",
              "    .dataframe thead th {\n",
              "        text-align: right;\n",
              "    }\n",
              "</style>\n",
              "<table border=\"1\" class=\"dataframe\">\n",
              "  <thead>\n",
              "    <tr style=\"text-align: right;\">\n",
              "      <th></th>\n",
              "      <th>Hours</th>\n",
              "      <th>Scores</th>\n",
              "    </tr>\n",
              "  </thead>\n",
              "  <tbody>\n",
              "    <tr>\n",
              "      <th>0</th>\n",
              "      <td>2.5</td>\n",
              "      <td>21</td>\n",
              "    </tr>\n",
              "    <tr>\n",
              "      <th>1</th>\n",
              "      <td>5.1</td>\n",
              "      <td>47</td>\n",
              "    </tr>\n",
              "    <tr>\n",
              "      <th>2</th>\n",
              "      <td>3.2</td>\n",
              "      <td>27</td>\n",
              "    </tr>\n",
              "    <tr>\n",
              "      <th>3</th>\n",
              "      <td>8.5</td>\n",
              "      <td>75</td>\n",
              "    </tr>\n",
              "    <tr>\n",
              "      <th>4</th>\n",
              "      <td>3.5</td>\n",
              "      <td>30</td>\n",
              "    </tr>\n",
              "  </tbody>\n",
              "</table>\n",
              "</div>"
            ],
            "text/plain": [
              "   Hours  Scores\n",
              "0    2.5      21\n",
              "1    5.1      47\n",
              "2    3.2      27\n",
              "3    8.5      75\n",
              "4    3.5      30"
            ]
          },
          "metadata": {
            "tags": []
          },
          "execution_count": 3
        }
      ]
    },
    {
      "cell_type": "code",
      "metadata": {
        "colab": {
          "base_uri": "https://localhost:8080/"
        },
        "id": "6twkxQXdw9r3",
        "outputId": "244e31bf-1020-4bb7-8838-f29936ec06ac"
      },
      "source": [
        "# Dataset Shape\r\n",
        "data.shape"
      ],
      "execution_count": null,
      "outputs": [
        {
          "output_type": "execute_result",
          "data": {
            "text/plain": [
              "(25, 2)"
            ]
          },
          "metadata": {
            "tags": []
          },
          "execution_count": 4
        }
      ]
    },
    {
      "cell_type": "code",
      "metadata": {
        "id": "zC7FvgDAw9r3"
      },
      "source": [
        "# Converting into Numpy Array\n",
        "data = data.values"
      ],
      "execution_count": null,
      "outputs": []
    },
    {
      "cell_type": "code",
      "metadata": {
        "id": "JiG5KL4Ww9r3"
      },
      "source": [
        "X = data[:,0]\n",
        "Y = data[:,1]"
      ],
      "execution_count": null,
      "outputs": []
    },
    {
      "cell_type": "code",
      "metadata": {
        "colab": {
          "base_uri": "https://localhost:8080/"
        },
        "id": "Z8iTZ9qncgjs",
        "outputId": "657c3bae-45a6-457a-e14e-cec1b91ef25b"
      },
      "source": [
        "print(X.shape,Y.shape)"
      ],
      "execution_count": null,
      "outputs": [
        {
          "output_type": "stream",
          "text": [
            "(25,) (25,)\n"
          ],
          "name": "stdout"
        }
      ]
    },
    {
      "cell_type": "code",
      "metadata": {
        "colab": {
          "base_uri": "https://localhost:8080/"
        },
        "id": "Y4j9rL4yw9r4",
        "outputId": "9bc5e6f5-8974-43d1-ad3a-d3b42711f61c"
      },
      "source": [
        "# Reshaping X, Y\n",
        "X = X.reshape((-1,1))\n",
        "Y = Y.reshape((-1,1))\n",
        "print(X.shape,Y.shape)"
      ],
      "execution_count": null,
      "outputs": [
        {
          "output_type": "stream",
          "text": [
            "(25, 1) (25, 1)\n"
          ],
          "name": "stdout"
        }
      ]
    },
    {
      "cell_type": "code",
      "metadata": {
        "colab": {
          "base_uri": "https://localhost:8080/",
          "height": 294
        },
        "id": "c7kSPT7Xw9r4",
        "outputId": "98c57a52-9630-4e52-96d2-3508f3df610c"
      },
      "source": [
        "# Plot - Hours Studied vs Percentage(%)\n",
        "plt.style.use('seaborn')\n",
        "fig = plt.figure(figsize=(4,4))\n",
        "plt.scatter(X,Y)\n",
        "plt.title('Hours Studied vs Percentage(%)')\n",
        "plt.xlabel('Hours Studied')  \n",
        "plt.ylabel('Percentage Score(%)')  \n",
        "plt.show()"
      ],
      "execution_count": null,
      "outputs": [
        {
          "output_type": "display_data",
          "data": {
            "image/png": "[encoded data removed]",
            "text/plain": [
              "<Figure size 288x288 with 1 Axes>"
            ]
          },
          "metadata": {
            "tags": []
          }
        }
      ]
    },
    {
      "cell_type": "markdown",
      "metadata": {
        "id": "-Xkq_Ur4w9r4"
      },
      "source": [
        "Splitting into Training & Testing Data"
      ]
    },
    {
      "cell_type": "code",
      "metadata": {
        "id": "cebdgVsqdZ02"
      },
      "source": [
        "from sklearn.model_selection import train_test_split  "
      ],
      "execution_count": null,
      "outputs": []
    },
    {
      "cell_type": "code",
      "metadata": {
        "id": "cShtRuY1w9r5"
      },
      "source": [
        "# Train-Test Spilt (80-20)\n",
        "X_train, X_test, y_train, y_test = train_test_split(X, Y, test_size=0.2, random_state=0) "
      ],
      "execution_count": null,
      "outputs": []
    },
    {
      "cell_type": "markdown",
      "metadata": {
        "id": "PH7SXin3w9r5"
      },
      "source": [
        "Implementation using Linear Regression (Sklearn)"
      ]
    },
    {
      "cell_type": "code",
      "metadata": {
        "id": "5dniohcpdrTc"
      },
      "source": [
        "from sklearn.linear_model import LinearRegression"
      ],
      "execution_count": null,
      "outputs": []
    },
    {
      "cell_type": "code",
      "metadata": {
        "id": "e66Y9XFYw9r5"
      },
      "source": [
        "model = LinearRegression()"
      ],
      "execution_count": null,
      "outputs": []
    },
    {
      "cell_type": "code",
      "metadata": {
        "colab": {
          "base_uri": "https://localhost:8080/"
        },
        "id": "xrdOiuOOw9r5",
        "outputId": "f66880be-3fd9-4433-cf2e-6a858605bcaa"
      },
      "source": [
        "# Fitting Model on Data\r\n",
        "model.fit(X_train, y_train)"
      ],
      "execution_count": null,
      "outputs": [
        {
          "output_type": "execute_result",
          "data": {
            "text/plain": [
              "LinearRegression(copy_X=True, fit_intercept=True, n_jobs=None, normalize=False)"
            ]
          },
          "metadata": {
            "tags": []
          },
          "execution_count": 14
        }
      ]
    },
    {
      "cell_type": "code",
      "metadata": {
        "colab": {
          "base_uri": "https://localhost:8080/"
        },
        "id": "tI_Ndsctw9r6",
        "outputId": "bcea8f12-9fcc-4b45-cf0f-7e277f4379db"
      },
      "source": [
        "model.coef_"
      ],
      "execution_count": null,
      "outputs": [
        {
          "output_type": "execute_result",
          "data": {
            "text/plain": [
              "array([[9.91065648]])"
            ]
          },
          "metadata": {
            "tags": []
          },
          "execution_count": 15
        }
      ]
    },
    {
      "cell_type": "code",
      "metadata": {
        "colab": {
          "base_uri": "https://localhost:8080/"
        },
        "id": "Z6FLmDIBw9r6",
        "outputId": "4dc1b737-ebc5-467b-c7f3-7583cdea9070"
      },
      "source": [
        "model.intercept_"
      ],
      "execution_count": null,
      "outputs": [
        {
          "output_type": "execute_result",
          "data": {
            "text/plain": [
              "array([2.01816004])"
            ]
          },
          "metadata": {
            "tags": []
          },
          "execution_count": 16
        }
      ]
    },
    {
      "cell_type": "markdown",
      "metadata": {
        "id": "QHwRUPW6w9r6"
      },
      "source": [
        "Plotting Regression Line"
      ]
    },
    {
      "cell_type": "code",
      "metadata": {
        "id": "bRz8MwqJw9r6",
        "colab": {
          "base_uri": "https://localhost:8080/"
        },
        "outputId": "37350c96-c46b-40b7-a0c9-efbf8cdc9d9f"
      },
      "source": [
        "L = model.coef_*X + model.intercept_\r\n",
        "print(L)"
      ],
      "execution_count": null,
      "outputs": [
        {
          "output_type": "stream",
          "text": [
            "[[26.79480124]\n",
            " [52.56250809]\n",
            " [33.73226078]\n",
            " [86.25874013]\n",
            " [36.70545772]\n",
            " [16.88414476]\n",
            " [93.19619966]\n",
            " [56.52677068]\n",
            " [84.27660883]\n",
            " [28.77693254]\n",
            " [78.33021494]\n",
            " [60.49103328]\n",
            " [46.6161142 ]\n",
            " [34.72332643]\n",
            " [12.91988217]\n",
            " [90.22300272]\n",
            " [26.79480124]\n",
            " [20.84840735]\n",
            " [62.47316457]\n",
            " [75.357018  ]\n",
            " [28.77693254]\n",
            " [49.58931115]\n",
            " [39.67865467]\n",
            " [70.40168976]\n",
            " [79.32128059]]\n"
          ],
          "name": "stdout"
        }
      ]
    },
    {
      "cell_type": "code",
      "metadata": {
        "colab": {
          "base_uri": "https://localhost:8080/",
          "height": 376
        },
        "id": "2aTEDGDpw9r7",
        "outputId": "ef4f9572-f048-4476-9c41-2c1bf06341aa"
      },
      "source": [
        "# Plot\n",
        "plt.scatter(X, Y, color='red')\n",
        "plt.plot(X, L, color='blue')\n",
        "plt.xlabel('Hours')\n",
        "plt.ylabel('Scores')\n",
        "plt.title('Hours vs Scores')\n",
        "plt.show()"
      ],
      "execution_count": null,
      "outputs": [
        {
          "output_type": "display_data",
          "data": {
            "image/png": "[encoded data removed]",
            "text/plain": [
              "<Figure size 576x396 with 1 Axes>"
            ]
          },
          "metadata": {
            "tags": []
          }
        }
      ]
    },
    {
      "cell_type": "markdown",
      "metadata": {
        "id": "LTgmZIVVw9r7"
      },
      "source": [
        "Predictions"
      ]
    },
    {
      "cell_type": "code",
      "metadata": {
        "id": "sw0mMh0pw9r7"
      },
      "source": [
        "# Predictions of Test Data\n",
        "y_ = model.predict(X_test)"
      ],
      "execution_count": null,
      "outputs": []
    },
    {
      "cell_type": "markdown",
      "metadata": {
        "id": "Z1IUn1NHw9r8"
      },
      "source": [
        "Model Evaluation"
      ]
    },
    {
      "cell_type": "code",
      "metadata": {
        "id": "Yfeo48H3w9r8",
        "colab": {
          "base_uri": "https://localhost:8080/"
        },
        "outputId": "e184aefe-50fd-4e08-ffdc-bdcad3daabb4"
      },
      "source": [
        "y_pred_score = model.score(X_test, y_test)\r\n",
        "print(y_pred_score)"
      ],
      "execution_count": null,
      "outputs": [
        {
          "output_type": "stream",
          "text": [
            "0.9454906892105354\n"
          ],
          "name": "stdout"
        }
      ]
    },
    {
      "cell_type": "code",
      "metadata": {
        "colab": {
          "base_uri": "https://localhost:8080/"
        },
        "id": "bZZdXEiyw9r8",
        "outputId": "2bde3bcc-8cf2-497c-f850-a06985d6f4c7"
      },
      "source": [
        "from sklearn import metrics  \n",
        "print(metrics.mean_absolute_error(y_test, y_)) "
      ],
      "execution_count": null,
      "outputs": [
        {
          "output_type": "stream",
          "text": [
            "4.183859899002982\n"
          ],
          "name": "stdout"
        }
      ]
    },
    {
      "cell_type": "markdown",
      "metadata": {
        "id": "2crI5pjNw9r8"
      },
      "source": [
        "Predicting score if a student studies for 9.25 hrs/day"
      ]
    },
    {
      "cell_type": "code",
      "metadata": {
        "colab": {
          "base_uri": "https://localhost:8080/"
        },
        "id": "6o2QkgyFw9r9",
        "outputId": "24b44267-d9d9-426e-c2c1-6fb5ecf2a374"
      },
      "source": [
        "h = [[9.25]]\n",
        "ans = model.predict(h)\n",
        "print(ans)"
      ],
      "execution_count": null,
      "outputs": [
        {
          "output_type": "stream",
          "text": [
            "[[93.69173249]]\n"
          ],
          "name": "stdout"
        }
      ]
    }
  ]
}